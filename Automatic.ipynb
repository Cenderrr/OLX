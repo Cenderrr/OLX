{
  "cells": [
    {
      "cell_type": "code",
      "source": [
        "first_use = False\n",
        "\n",
        "if first_use:\n",
        "    from google.colab import drive\n",
        "    drive.mount('/content/drive')\n",
        "\n",
        "    import gdown\n",
        "\n",
        "    # Pobierz plik JSON z Google Drive\n",
        "    file_id = '1_FV2snQGL6dTp1BkJOXoaF42WP4BY4FJ'\n",
        "    gdown.download(f'https://drive.google.com/uc?id={file_id}', 'credentials.json', quiet=False)\n",
        "\n",
        "    import os\n",
        "    import json\n",
        "\n",
        "    # Wczytaj zawartość pliku credentials.json\n",
        "    with open('credentials.json') as f:\n",
        "        credentials_info = json.load(f)\n",
        "\n",
        "    # Zapisz zawartość pliku jako zmienną środowiskową\n",
        "    os.environ['GOOGLE_CREDENTIALS'] = json.dumps(credentials_info)\n",
        "\n"
      ],
      "metadata": {
        "id": "qUxndvbp3Pss"
      },
      "execution_count": 6,
      "outputs": []
    },
    {
      "cell_type": "code",
      "source": [
        "import datetime\n",
        "import os\n",
        "import json\n",
        "\n",
        "from google.oauth2 import service_account\n",
        "from googleapiclient.discovery import build\n",
        "\n",
        "# Pobierz zmienną środowiskową z kluczem\n",
        "credentials_info = json.loads(os.environ['GOOGLE_CREDENTIALS'])\n",
        "\n",
        "# Utwórz poświadczenia z pliku JSON\n",
        "creds = service_account.Credentials.from_service_account_info(credentials_info, scopes=['https://www.googleapis.com/auth/drive'])\n",
        "\n",
        "# Użyj API Google Drive\n",
        "drive_service = build('drive', 'v3', credentials=creds)\n",
        "\n",
        "# Test - Pobranie listy plików na Google Drive\n",
        "results = drive_service.files().list(pageSize=10, fields=\"files(id, name)\").execute()\n",
        "items = results.get('files', [])\n",
        "if items:\n",
        "    print('Pliki na Google Drive:')\n",
        "    for item in items:\n",
        "        print(f'{item[\"name\"]} ({item[\"id\"]})')\n",
        "else:\n",
        "    print('Brak plików w Google Drive.')"
      ],
      "metadata": {
        "colab": {
          "base_uri": "https://localhost:8080/",
          "height": 251
        },
        "id": "3R_qJd3V3Pqp",
        "outputId": "a561355a-6f09-4546-a783-18c0f396567d"
      },
      "execution_count": 7,
      "outputs": [
        {
          "output_type": "error",
          "ename": "KeyError",
          "evalue": "'GOOGLE_CREDENTIALS'",
          "traceback": [
            "\u001b[0;31m---------------------------------------------------------------------------\u001b[0m",
            "\u001b[0;31mKeyError\u001b[0m                                  Traceback (most recent call last)",
            "\u001b[0;32m<ipython-input-7-2a7bdd08357c>\u001b[0m in \u001b[0;36m<cell line: 0>\u001b[0;34m()\u001b[0m\n\u001b[1;32m      3\u001b[0m \u001b[0;34m\u001b[0m\u001b[0m\n\u001b[1;32m      4\u001b[0m \u001b[0;31m# Pobierz zmienną środowiskową z kluczem\u001b[0m\u001b[0;34m\u001b[0m\u001b[0;34m\u001b[0m\u001b[0m\n\u001b[0;32m----> 5\u001b[0;31m \u001b[0mcredentials_info\u001b[0m \u001b[0;34m=\u001b[0m \u001b[0mjson\u001b[0m\u001b[0;34m.\u001b[0m\u001b[0mloads\u001b[0m\u001b[0;34m(\u001b[0m\u001b[0mos\u001b[0m\u001b[0;34m.\u001b[0m\u001b[0menviron\u001b[0m\u001b[0;34m[\u001b[0m\u001b[0;34m'GOOGLE_CREDENTIALS'\u001b[0m\u001b[0;34m]\u001b[0m\u001b[0;34m)\u001b[0m\u001b[0;34m\u001b[0m\u001b[0;34m\u001b[0m\u001b[0m\n\u001b[0m\u001b[1;32m      6\u001b[0m \u001b[0;34m\u001b[0m\u001b[0m\n\u001b[1;32m      7\u001b[0m \u001b[0;31m# Utwórz poświadczenia z pliku JSON\u001b[0m\u001b[0;34m\u001b[0m\u001b[0;34m\u001b[0m\u001b[0m\n",
            "\u001b[0;32m/usr/lib/python3.11/os.py\u001b[0m in \u001b[0;36m__getitem__\u001b[0;34m(self, key)\u001b[0m\n",
            "\u001b[0;31mKeyError\u001b[0m: 'GOOGLE_CREDENTIALS'"
          ]
        }
      ]
    },
    {
      "cell_type": "code",
      "source": [],
      "metadata": {
        "id": "ZoKcVDzM3PoO"
      },
      "execution_count": null,
      "outputs": []
    },
    {
      "cell_type": "code",
      "source": [],
      "metadata": {
        "id": "lUdLF26J3PmJ"
      },
      "execution_count": null,
      "outputs": []
    },
    {
      "cell_type": "code",
      "source": [],
      "metadata": {
        "id": "L9jSqPV53PkI"
      },
      "execution_count": null,
      "outputs": []
    },
    {
      "cell_type": "code",
      "source": [],
      "metadata": {
        "id": "vPM1pE2k1EDc"
      },
      "execution_count": null,
      "outputs": []
    },
    {
      "cell_type": "code",
      "source": [
        "'''\n",
        "from google.oauth2 import service_account\n",
        "from googleapiclient.discovery import build\n",
        "from googleapiclient.http import MediaFileUpload\n",
        "import datetime\n",
        "\n",
        "# 📌 Uwierzytelnienie do Google Drive API przez konto usługi\n",
        "SCOPES = ['https://www.googleapis.com/auth/drive']\n",
        "SERVICE_ACCOUNT_FILE = '/content/black-cirrus-451306-i1-f0be11f71b0d.json'\n",
        "\n",
        "credentials = service_account.Credentials.from_service_account_file(\n",
        "    SERVICE_ACCOUNT_FILE, scopes=SCOPES)\n",
        "\n",
        "drive_service = build('drive', 'v3', credentials=credentials)\n",
        "'''\n",
        "\n",
        "# 📌 Sprawdzenie, czy folder \"OLX Scrap\" istnieje\n",
        "folder_name = \"OLX Scrap\"\n",
        "query = f\"name='{folder_name}' and mimeType='application/vnd.google-apps.folder' and trashed=false\"\n",
        "response = drive_service.files().list(q=query, fields=\"files(id, name)\").execute()\n",
        "folders = response.get('files', [])\n",
        "\n",
        "if not folders:\n",
        "    print(f\"Folder '{folder_name}' nie istnieje! Sprawdź nazwę lub utwórz go ręcznie w Google Drive.\")\n",
        "    folder_id = None\n",
        "else:\n",
        "    folder_id = folders[0]['id']\n",
        "    print(f\"Znaleziono folder '{folder_name}', ID: {folder_id}\")\n",
        "\n",
        "# 📌 Utworzenie pustego pliku CSV w folderze Google Drive\n",
        "if folder_id:\n",
        "    now = datetime.datetime.now()\n",
        "    filename = f\"test-{now.strftime('%Y-%m-%d_%H-%M-%S')}.csv\"\n",
        "    local_file_path = f\"/content/{filename}\"\n",
        "\n",
        "    # Tworzenie pustego pliku lokalnie (potrzebne do przesłania na Drive)\n",
        "    with open(local_file_path, \"w\") as f:\n",
        "        f.write(\"\")  # Plik pusty\n",
        "\n",
        "    # 📌 Przesyłanie pliku do folderu \"OLX Scrap\"\n",
        "    file_metadata = {\n",
        "        'name': filename,\n",
        "        'mimeType': 'text/csv',\n",
        "        'parents': [folder_id]  # Umieszczenie w folderze\n",
        "    }\n",
        "    media = MediaFileUpload(local_file_path, mimetype='text/csv', resumable=True)\n",
        "\n",
        "    uploaded_file = drive_service.files().create(body=file_metadata, media_body=media, fields='id').execute()\n",
        "    print(f\"✅ Utworzono plik: {filename} w folderze '{folder_name}' (ID: {uploaded_file.get('id')})\")\n"
      ],
      "metadata": {
        "id": "ndrnrJBl9kfT"
      },
      "execution_count": null,
      "outputs": []
    }
  ],
  "metadata": {
    "colab": {
      "provenance": [],
      "authorship_tag": "ABX9TyOpIu7PBzQZsMRTk+A9TOOO"
    },
    "kernelspec": {
      "display_name": "Python 3",
      "name": "python3"
    },
    "language_info": {
      "name": "python"
    }
  },
  "nbformat": 4,
  "nbformat_minor": 0
}